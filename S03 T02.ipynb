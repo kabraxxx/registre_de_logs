{
 "cells": [
  {
   "cell_type": "markdown",
   "id": "d9ba8cd1",
   "metadata": {},
   "source": [
    "# S04 T01: Transformació Registre Log amb Regular expressions #"
   ]
  },
  {
   "cell_type": "markdown",
   "id": "b95ae1c4",
   "metadata": {},
   "source": [
    "L'anàlisi de registres és una funció important per al control i l'alerta, el compliment de les polítiques de seguretat, l'auditoria i el compliment normatiu, la resposta a incidents de seguretat i fins i tot les investigacions forenses. En analitzar les dades de registre, les empreses poden identificar més fàcilment les possibles amenaces i altres problemes, trobar la causa arrel i iniciar una resposta ràpida per mitigar els riscos."
   ]
  },
  {
   "cell_type": "markdown",
   "id": "283d62fc",
   "metadata": {},
   "source": [
    "## Nivell 1 ##"
   ]
  },
  {
   "cell_type": "markdown",
   "id": "007249dd",
   "metadata": {},
   "source": [
    "L'analista ha d'assegurar-se que els registres consisteixen en una gamma completa de missatges i s'interpreten segons el context. Els elements de registre han d'estandaritzar-se, utilitzant els mateixos termes o terminologia, per evitar confusions i proporcionar cohesió.\n",
    "\n",
    "Com Científic de Dades se t'ha proporcionat accés als registres-Logs on queda registrada l'activitat de totes les visites a realitzades a la pàgina web de l'agència de viatges \"akumenius.com\"."
   ]
  },
  {
   "cell_type": "markdown",
   "id": "a9a71df5",
   "metadata": {},
   "source": [
    "### - Exercici 1 ###"
   ]
  },
  {
   "cell_type": "markdown",
   "id": "0663fb68",
   "metadata": {},
   "source": [
    "Estandaritza, identifica i enumera cada un dels atributs / variables de l'estructura de l'arxiu \"Web_access_log-akumenius.com\" que trobaràs al repositori de GitHub \"Data-sources\"."
   ]
  },
  {
   "cell_type": "code",
   "execution_count": null,
   "id": "7fdd3811",
   "metadata": {},
   "outputs": [],
   "source": []
  },
  {
   "cell_type": "markdown",
   "id": "7b8e0eaf",
   "metadata": {},
   "source": [
    "## Nivell 2 ##"
   ]
  },
  {
   "cell_type": "markdown",
   "id": "cf832abb",
   "metadata": {},
   "source": [
    "### - Exercici 2 ###"
   ]
  },
  {
   "cell_type": "markdown",
   "id": "570cfee0",
   "metadata": {},
   "source": [
    "Neteja, preprocesa, estructura i transforma (dataframe) les dades del registre d'Accés a la web."
   ]
  },
  {
   "cell_type": "markdown",
   "id": "e73e7084",
   "metadata": {},
   "source": [
    "### - Exercici 3 ###"
   ]
  },
  {
   "cell_type": "markdown",
   "id": "d132626c",
   "metadata": {},
   "source": [
    "Geolocalitza les IP's."
   ]
  },
  {
   "cell_type": "code",
   "execution_count": null,
   "id": "f00cf112",
   "metadata": {},
   "outputs": [],
   "source": []
  },
  {
   "cell_type": "code",
   "execution_count": 84,
   "id": "20c657d6",
   "metadata": {},
   "outputs": [
    {
     "data": {
      "text/plain": [
       "2"
      ]
     },
     "execution_count": 84,
     "metadata": {},
     "output_type": "execute_result"
    }
   ],
   "source": [
    "movies.ndim"
   ]
  },
  {
   "cell_type": "code",
   "execution_count": 85,
   "id": "e687a7ce",
   "metadata": {},
   "outputs": [
    {
     "data": {
      "text/plain": [
       "Index(['TitleYear', 'Genres'], dtype='object')"
      ]
     },
     "execution_count": 85,
     "metadata": {},
     "output_type": "execute_result"
    }
   ],
   "source": [
    "movies.columns"
   ]
  },
  {
   "cell_type": "code",
   "execution_count": 86,
   "id": "6e81cd2a",
   "metadata": {},
   "outputs": [
    {
     "data": {
      "text/plain": [
       "TitleYear    object\n",
       "Genres       object\n",
       "dtype: object"
      ]
     },
     "execution_count": 86,
     "metadata": {},
     "output_type": "execute_result"
    }
   ],
   "source": [
    "movies.dtypes"
   ]
  },
  {
   "cell_type": "code",
   "execution_count": 87,
   "id": "49e0e9fc",
   "metadata": {},
   "outputs": [
    {
     "data": {
      "text/html": [
       "<div>\n",
       "<style scoped>\n",
       "    .dataframe tbody tr th:only-of-type {\n",
       "        vertical-align: middle;\n",
       "    }\n",
       "\n",
       "    .dataframe tbody tr th {\n",
       "        vertical-align: top;\n",
       "    }\n",
       "\n",
       "    .dataframe thead th {\n",
       "        text-align: right;\n",
       "    }\n",
       "</style>\n",
       "<table border=\"1\" class=\"dataframe\">\n",
       "  <thead>\n",
       "    <tr style=\"text-align: right;\">\n",
       "      <th></th>\n",
       "      <th>TitleYear</th>\n",
       "      <th>Genres</th>\n",
       "    </tr>\n",
       "  </thead>\n",
       "  <tbody>\n",
       "    <tr>\n",
       "      <th>count</th>\n",
       "      <td>3883</td>\n",
       "      <td>3883</td>\n",
       "    </tr>\n",
       "    <tr>\n",
       "      <th>unique</th>\n",
       "      <td>3883</td>\n",
       "      <td>301</td>\n",
       "    </tr>\n",
       "    <tr>\n",
       "      <th>top</th>\n",
       "      <td>Toy Story (1995)</td>\n",
       "      <td>Drama</td>\n",
       "    </tr>\n",
       "    <tr>\n",
       "      <th>freq</th>\n",
       "      <td>1</td>\n",
       "      <td>843</td>\n",
       "    </tr>\n",
       "  </tbody>\n",
       "</table>\n",
       "</div>"
      ],
      "text/plain": [
       "               TitleYear Genres\n",
       "count               3883   3883\n",
       "unique              3883    301\n",
       "top     Toy Story (1995)  Drama\n",
       "freq                   1    843"
      ]
     },
     "execution_count": 87,
     "metadata": {},
     "output_type": "execute_result"
    }
   ],
   "source": [
    "movies.describe()"
   ]
  },
  {
   "cell_type": "code",
   "execution_count": 88,
   "id": "08d9ddc8",
   "metadata": {},
   "outputs": [
    {
     "data": {
      "text/html": [
       "<div>\n",
       "<style scoped>\n",
       "    .dataframe tbody tr th:only-of-type {\n",
       "        vertical-align: middle;\n",
       "    }\n",
       "\n",
       "    .dataframe tbody tr th {\n",
       "        vertical-align: top;\n",
       "    }\n",
       "\n",
       "    .dataframe thead th {\n",
       "        text-align: right;\n",
       "    }\n",
       "</style>\n",
       "<table border=\"1\" class=\"dataframe\">\n",
       "  <thead>\n",
       "    <tr style=\"text-align: right;\">\n",
       "      <th></th>\n",
       "      <th>TitleYear</th>\n",
       "      <th>Genres</th>\n",
       "    </tr>\n",
       "  </thead>\n",
       "  <tbody>\n",
       "    <tr>\n",
       "      <th>count</th>\n",
       "      <td>3883</td>\n",
       "      <td>3883</td>\n",
       "    </tr>\n",
       "    <tr>\n",
       "      <th>unique</th>\n",
       "      <td>3883</td>\n",
       "      <td>301</td>\n",
       "    </tr>\n",
       "    <tr>\n",
       "      <th>top</th>\n",
       "      <td>Toy Story (1995)</td>\n",
       "      <td>Drama</td>\n",
       "    </tr>\n",
       "    <tr>\n",
       "      <th>freq</th>\n",
       "      <td>1</td>\n",
       "      <td>843</td>\n",
       "    </tr>\n",
       "  </tbody>\n",
       "</table>\n",
       "</div>"
      ],
      "text/plain": [
       "               TitleYear Genres\n",
       "count               3883   3883\n",
       "unique              3883    301\n",
       "top     Toy Story (1995)  Drama\n",
       "freq                   1    843"
      ]
     },
     "execution_count": 88,
     "metadata": {},
     "output_type": "execute_result"
    }
   ],
   "source": [
    "round(movies.describe(include='all'), 3)"
   ]
  },
  {
   "cell_type": "code",
   "execution_count": 89,
   "id": "5ab1676b",
   "metadata": {},
   "outputs": [
    {
     "data": {
      "text/plain": [
       "TitleYear    0.0\n",
       "Genres       0.0\n",
       "dtype: float64"
      ]
     },
     "execution_count": 89,
     "metadata": {},
     "output_type": "execute_result"
    }
   ],
   "source": [
    "movies.isnull().sum()/len(movies)"
   ]
  },
  {
   "cell_type": "code",
   "execution_count": 102,
   "id": "d1dbd75e",
   "metadata": {},
   "outputs": [
    {
     "data": {
      "text/plain": [
       "array(['Toy Story (1995)', 'Jumanji (1995)', 'Grumpier Old Men (1995)',\n",
       "       ..., 'Tigerland (2000)', 'Two Family House (2000)',\n",
       "       'Contender, The (2000)'], dtype=object)"
      ]
     },
     "execution_count": 102,
     "metadata": {},
     "output_type": "execute_result"
    }
   ],
   "source": [
    "movies.TitleYear.unique()"
   ]
  },
  {
   "cell_type": "code",
   "execution_count": 103,
   "id": "e50c7f70",
   "metadata": {},
   "outputs": [
    {
     "data": {
      "text/plain": [
       "3883"
      ]
     },
     "execution_count": 103,
     "metadata": {},
     "output_type": "execute_result"
    }
   ],
   "source": [
    "movies.TitleYear.nunique()"
   ]
  },
  {
   "cell_type": "code",
   "execution_count": null,
   "id": "59b7fc07",
   "metadata": {},
   "outputs": [],
   "source": []
  },
  {
   "cell_type": "markdown",
   "id": "eb6f1b8c",
   "metadata": {},
   "source": [
    "## Nivell 3 ##"
   ]
  },
  {
   "cell_type": "markdown",
   "id": "621e6f64",
   "metadata": {},
   "source": [
    "### - Exercici 3 ###"
   ]
  },
  {
   "cell_type": "markdown",
   "id": "a3e1ef19",
   "metadata": {},
   "source": [
    "En aquest exercici no us donarem gaires indicacions perquè volem que ens mostreu la vostra creativitat. Sorprèn-me amb gràfiques i interpretacions del dataset \"movies.dat\" del exercici anterior."
   ]
  },
  {
   "cell_type": "code",
   "execution_count": null,
   "id": "b10898df",
   "metadata": {},
   "outputs": [],
   "source": []
  }
 ],
 "metadata": {
  "kernelspec": {
   "display_name": "Python 3 (ipykernel)",
   "language": "python",
   "name": "python3"
  },
  "language_info": {
   "codemirror_mode": {
    "name": "ipython",
    "version": 3
   },
   "file_extension": ".py",
   "mimetype": "text/x-python",
   "name": "python",
   "nbconvert_exporter": "python",
   "pygments_lexer": "ipython3",
   "version": "3.9.12"
  },
  "latex_envs": {
   "LaTeX_envs_menu_present": true,
   "autoclose": false,
   "autocomplete": true,
   "bibliofile": "biblio.bib",
   "cite_by": "apalike",
   "current_citInitial": 1,
   "eqLabelWithNumbers": true,
   "eqNumInitial": 1,
   "hotkeys": {
    "equation": "Ctrl-E",
    "itemize": "Ctrl-I"
   },
   "labels_anchors": false,
   "latex_user_defs": false,
   "report_style_numbering": false,
   "user_envs_cfg": false
  }
 },
 "nbformat": 4,
 "nbformat_minor": 5
}
